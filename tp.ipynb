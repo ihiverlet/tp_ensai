{
 "cells": [
  {
   "cell_type": "code",
   "execution_count": 2,
   "metadata": {},
   "outputs": [],
   "source": [
    "import duckdb\n",
    "\n",
    "duckdb.sql(\"\"\"\n",
    "CREATE OR REPLACE VIEW commune AS\n",
    "FROM 'https://www.insee.fr/fr/statistiques/fichier/7766585/v_commune_2024.csv';\n",
    "\"\"\")"
   ]
  },
  {
   "cell_type": "code",
   "execution_count": 4,
   "metadata": {},
   "outputs": [
    {
     "data": {
      "text/html": [
       "<div>\n",
       "<style scoped>\n",
       "    .dataframe tbody tr th:only-of-type {\n",
       "        vertical-align: middle;\n",
       "    }\n",
       "\n",
       "    .dataframe tbody tr th {\n",
       "        vertical-align: top;\n",
       "    }\n",
       "\n",
       "    .dataframe thead th {\n",
       "        text-align: right;\n",
       "    }\n",
       "</style>\n",
       "<table border=\"1\" class=\"dataframe\">\n",
       "  <thead>\n",
       "    <tr style=\"text-align: right;\">\n",
       "      <th></th>\n",
       "      <th>TYPECOM</th>\n",
       "      <th>COM</th>\n",
       "      <th>REG</th>\n",
       "      <th>DEP</th>\n",
       "      <th>CTCD</th>\n",
       "      <th>ARR</th>\n",
       "      <th>TNCC</th>\n",
       "      <th>NCC</th>\n",
       "      <th>NCCENR</th>\n",
       "      <th>LIBELLE</th>\n",
       "      <th>CAN</th>\n",
       "      <th>COMPARENT</th>\n",
       "    </tr>\n",
       "  </thead>\n",
       "  <tbody>\n",
       "    <tr>\n",
       "      <th>0</th>\n",
       "      <td>COM</td>\n",
       "      <td>01001</td>\n",
       "      <td>84</td>\n",
       "      <td>01</td>\n",
       "      <td>01D</td>\n",
       "      <td>012</td>\n",
       "      <td>5</td>\n",
       "      <td>ABERGEMENT CLEMENCIAT</td>\n",
       "      <td>Abergement-Clémenciat</td>\n",
       "      <td>L'Abergement-Clémenciat</td>\n",
       "      <td>0108</td>\n",
       "      <td>None</td>\n",
       "    </tr>\n",
       "    <tr>\n",
       "      <th>1</th>\n",
       "      <td>COM</td>\n",
       "      <td>01002</td>\n",
       "      <td>84</td>\n",
       "      <td>01</td>\n",
       "      <td>01D</td>\n",
       "      <td>011</td>\n",
       "      <td>5</td>\n",
       "      <td>ABERGEMENT DE VAREY</td>\n",
       "      <td>Abergement-de-Varey</td>\n",
       "      <td>L'Abergement-de-Varey</td>\n",
       "      <td>0101</td>\n",
       "      <td>None</td>\n",
       "    </tr>\n",
       "    <tr>\n",
       "      <th>2</th>\n",
       "      <td>COM</td>\n",
       "      <td>01004</td>\n",
       "      <td>84</td>\n",
       "      <td>01</td>\n",
       "      <td>01D</td>\n",
       "      <td>011</td>\n",
       "      <td>1</td>\n",
       "      <td>AMBERIEU EN BUGEY</td>\n",
       "      <td>Ambérieu-en-Bugey</td>\n",
       "      <td>Ambérieu-en-Bugey</td>\n",
       "      <td>0101</td>\n",
       "      <td>None</td>\n",
       "    </tr>\n",
       "  </tbody>\n",
       "</table>\n",
       "</div>"
      ],
      "text/plain": [
       "  TYPECOM    COM  REG DEP CTCD  ARR  TNCC                    NCC  \\\n",
       "0     COM  01001   84  01  01D  012     5  ABERGEMENT CLEMENCIAT   \n",
       "1     COM  01002   84  01  01D  011     5    ABERGEMENT DE VAREY   \n",
       "2     COM  01004   84  01  01D  011     1      AMBERIEU EN BUGEY   \n",
       "\n",
       "                  NCCENR                  LIBELLE   CAN COMPARENT  \n",
       "0  Abergement-Clémenciat  L'Abergement-Clémenciat  0108      None  \n",
       "1    Abergement-de-Varey    L'Abergement-de-Varey  0101      None  \n",
       "2      Ambérieu-en-Bugey        Ambérieu-en-Bugey  0101      None  "
      ]
     },
     "execution_count": 4,
     "metadata": {},
     "output_type": "execute_result"
    }
   ],
   "source": [
    "import pandas as pd\n",
    "\n",
    "duckdb.sql(\"\"\"\n",
    "SELECT *\n",
    "  FROM commune limit 3\n",
    "\"\"\").to_df()"
   ]
  },
  {
   "cell_type": "code",
   "execution_count": null,
   "metadata": {},
   "outputs": [],
   "source": [
    "\n",
    "    Quel est le code région de Mayotte ?\n",
    "    Combien de communes y a-t-il en Guyane ?"
   ]
  },
  {
   "cell_type": "code",
   "execution_count": 3,
   "metadata": {},
   "outputs": [
    {
     "data": {
      "text/html": [
       "<div>\n",
       "<style scoped>\n",
       "    .dataframe tbody tr th:only-of-type {\n",
       "        vertical-align: middle;\n",
       "    }\n",
       "\n",
       "    .dataframe tbody tr th {\n",
       "        vertical-align: top;\n",
       "    }\n",
       "\n",
       "    .dataframe thead th {\n",
       "        text-align: right;\n",
       "    }\n",
       "</style>\n",
       "<table border=\"1\" class=\"dataframe\">\n",
       "  <thead>\n",
       "    <tr style=\"text-align: right;\">\n",
       "      <th></th>\n",
       "      <th>DEP</th>\n",
       "      <th>REG</th>\n",
       "    </tr>\n",
       "  </thead>\n",
       "  <tbody>\n",
       "    <tr>\n",
       "      <th>0</th>\n",
       "      <td>976</td>\n",
       "      <td>6</td>\n",
       "    </tr>\n",
       "  </tbody>\n",
       "</table>\n",
       "</div>"
      ],
      "text/plain": [
       "   DEP  REG\n",
       "0  976    6"
      ]
     },
     "execution_count": 3,
     "metadata": {},
     "output_type": "execute_result"
    }
   ],
   "source": [
    "duckdb.sql(\"\"\"\n",
    "SELECT dep, reg\n",
    "  FROM commune\n",
    " WHERE NCC = 'MAMOUDZOU';\n",
    "\"\"\").to_df()\n"
   ]
  },
  {
   "cell_type": "code",
   "execution_count": 5,
   "metadata": {},
   "outputs": [
    {
     "data": {
      "text/html": [
       "<div>\n",
       "<style scoped>\n",
       "    .dataframe tbody tr th:only-of-type {\n",
       "        vertical-align: middle;\n",
       "    }\n",
       "\n",
       "    .dataframe tbody tr th {\n",
       "        vertical-align: top;\n",
       "    }\n",
       "\n",
       "    .dataframe thead th {\n",
       "        text-align: right;\n",
       "    }\n",
       "</style>\n",
       "<table border=\"1\" class=\"dataframe\">\n",
       "  <thead>\n",
       "    <tr style=\"text-align: right;\">\n",
       "      <th></th>\n",
       "      <th>count_star()</th>\n",
       "    </tr>\n",
       "  </thead>\n",
       "  <tbody>\n",
       "    <tr>\n",
       "      <th>0</th>\n",
       "      <td>22</td>\n",
       "    </tr>\n",
       "  </tbody>\n",
       "</table>\n",
       "</div>"
      ],
      "text/plain": [
       "   count_star()\n",
       "0            22"
      ]
     },
     "execution_count": 5,
     "metadata": {},
     "output_type": "execute_result"
    }
   ],
   "source": [
    "duckdb.sql(\"\"\"\n",
    "SELECT COUNT(*)\n",
    "  FROM commune\n",
    " WHERE dep = '973';\n",
    "\"\"\").to_df()"
   ]
  },
  {
   "cell_type": "code",
   "execution_count": 8,
   "metadata": {},
   "outputs": [
    {
     "data": {
      "text/html": [
       "<div>\n",
       "<style scoped>\n",
       "    .dataframe tbody tr th:only-of-type {\n",
       "        vertical-align: middle;\n",
       "    }\n",
       "\n",
       "    .dataframe tbody tr th {\n",
       "        vertical-align: top;\n",
       "    }\n",
       "\n",
       "    .dataframe thead th {\n",
       "        text-align: right;\n",
       "    }\n",
       "</style>\n",
       "<table border=\"1\" class=\"dataframe\">\n",
       "  <thead>\n",
       "    <tr style=\"text-align: right;\">\n",
       "      <th></th>\n",
       "      <th>count(1)</th>\n",
       "    </tr>\n",
       "  </thead>\n",
       "  <tbody>\n",
       "    <tr>\n",
       "      <th>0</th>\n",
       "      <td>32</td>\n",
       "    </tr>\n",
       "  </tbody>\n",
       "</table>\n",
       "</div>"
      ],
      "text/plain": [
       "   count(1)\n",
       "0        32"
      ]
     },
     "execution_count": 8,
     "metadata": {},
     "output_type": "execute_result"
    }
   ],
   "source": [
    "duckdb.sql(\"\"\"\n",
    "SELECT COUNT(1)\n",
    "  FROM commune\n",
    " WHERE dep IN ('02','60','80')\n",
    "   AND NCC LIKE '%L%L%L%L%';\n",
    "\"\"\").to_df()"
   ]
  },
  {
   "cell_type": "code",
   "execution_count": null,
   "metadata": {},
   "outputs": [],
   "source": []
  },
  {
   "cell_type": "markdown",
   "metadata": {},
   "source": [
    "    Affichez le nombre de communes par département\n",
    "        Classez par nombre de communes décroissant\n",
    "        Quel est le numéro du département se classant au 20e rang ?\n",
    "    Quel est le numéro du département dans lequel se trouve le nom de commune le plus long\n"
   ]
  },
  {
   "cell_type": "code",
   "execution_count": 10,
   "metadata": {},
   "outputs": [
    {
     "data": {
      "text/plain": [
       "┌─────────┬─────────────┐\n",
       "│   DEP   │ nb_communes │\n",
       "│ varchar │    int64    │\n",
       "├─────────┼─────────────┤\n",
       "│ NULL    │        2564 │\n",
       "│ 62      │         890 │\n",
       "│ 02      │         798 │\n",
       "│ 80      │         772 │\n",
       "│ 57      │         725 │\n",
       "└─────────┴─────────────┘"
      ]
     },
     "execution_count": 10,
     "metadata": {},
     "output_type": "execute_result"
    }
   ],
   "source": [
    "duckdb.sql(\"\"\"\n",
    "select dep, count(distinct com) as nb_communes from commune group by dep order by nb_communes desc limit 5;\"\"\")"
   ]
  },
  {
   "cell_type": "code",
   "execution_count": 7,
   "metadata": {},
   "outputs": [
    {
     "data": {
      "text/plain": [
       "┌─────────┬─────────┬───────┬─────────┬─────────┬─────────┬───────┬──────────────────────────┬──────────────────────────┬──────────────────────────┬─────────┬───────────┐\n",
       "│ TYPECOM │   COM   │  REG  │   DEP   │  CTCD   │   ARR   │ TNCC  │           NCC            │          NCCENR          │         LIBELLE          │   CAN   │ COMPARENT │\n",
       "│ varchar │ varchar │ int64 │ varchar │ varchar │ varchar │ int64 │         varchar          │         varchar          │         varchar          │ varchar │  varchar  │\n",
       "├─────────┼─────────┼───────┼─────────┼─────────┼─────────┼───────┼──────────────────────────┼──────────────────────────┼──────────────────────────┼─────────┼───────────┤\n",
       "│ COMD    │ 01015   │  NULL │ NULL    │ NULL    │ NULL    │     1 │ ARBIGNIEU                │ Arbignieu                │ Arbignieu                │ NULL    │ 01015     │\n",
       "│ COMD    │ 01025   │  NULL │ NULL    │ NULL    │ NULL    │     0 │ BAGE LA VILLE            │ Bâgé-la-Ville            │ Bâgé-la-Ville            │ NULL    │ 01025     │\n",
       "│ COMD    │ 01033   │  NULL │ NULL    │ NULL    │ NULL    │     0 │ BELLEGARDE SUR VALSERINE │ Bellegarde-sur-Valserine │ Bellegarde-sur-Valserine │ NULL    │ 01033     │\n",
       "│ COMD    │ 01036   │  NULL │ NULL    │ NULL    │ NULL    │     0 │ BELMONT LUTHEZIEU        │ Belmont-Luthézieu        │ Belmont-Luthézieu        │ NULL    │ 01036     │\n",
       "│ COMD    │ 01039   │  NULL │ NULL    │ NULL    │ NULL    │     0 │ BEON                     │ Béon                     │ Béon                     │ NULL    │ 01138     │\n",
       "│ COMD    │ 01059   │  NULL │ NULL    │ NULL    │ NULL    │     0 │ BRENAZ                   │ Brénaz                   │ Brénaz                   │ NULL    │ 01453     │\n",
       "│ COMD    │ 01080   │  NULL │ NULL    │ NULL    │ NULL    │     0 │ CHAMPDOR                 │ Champdor                 │ Champdor                 │ NULL    │ 01080     │\n",
       "│ COMD    │ 01091   │  NULL │ NULL    │ NULL    │ NULL    │     0 │ CHATILLON EN MICHAILLE   │ Châtillon-en-Michaille   │ Châtillon-en-Michaille   │ NULL    │ 01033     │\n",
       "│ COMD    │ 01097   │  NULL │ NULL    │ NULL    │ NULL    │     0 │ CHAVORNAY                │ Chavornay                │ Chavornay                │ NULL    │ 01453     │\n",
       "│ COMD    │ 01119   │  NULL │ NULL    │ NULL    │ NULL    │     0 │ CORCELLES                │ Corcelles                │ Corcelles                │ NULL    │ 01080     │\n",
       "│  ·      │   ·     │    ·  │  ·      │  ·      │  ·      │     · │     ·                    │     ·                    │     ·                    │  ·      │   ·       │\n",
       "│  ·      │   ·     │    ·  │  ·      │  ·      │  ·      │     · │     ·                    │     ·                    │     ·                    │  ·      │   ·       │\n",
       "│  ·      │   ·     │    ·  │  ·      │  ·      │  ·      │     · │     ·                    │     ·                    │     ·                    │  ·      │   ·       │\n",
       "│ COMD    │ 89429   │  NULL │ NULL    │ NULL    │ NULL    │     0 │ VAREILLES                │ Vareilles                │ Vareilles                │ NULL    │ 89411     │\n",
       "│ COMA    │ 89435   │  NULL │ NULL    │ NULL    │ NULL    │     0 │ VAUX                     │ Vaux                     │ Vaux                     │ NULL    │ 89024     │\n",
       "│ COMD    │ 89448   │  NULL │ NULL    │ NULL    │ NULL    │     0 │ VIGNES                   │ Vignes                   │ Vignes                   │ NULL    │ 89197     │\n",
       "│ COMD    │ 89454   │  NULL │ NULL    │ NULL    │ NULL    │     0 │ VILLEFRANCHE             │ Villefranche             │ Villefranche             │ NULL    │ 89086     │\n",
       "│ COMD    │ 89457   │  NULL │ NULL    │ NULL    │ NULL    │     0 │ VILLEMER                 │ Villemer                 │ Villemer                 │ NULL    │ 89196     │\n",
       "│ COMD    │ 89473   │  NULL │ NULL    │ NULL    │ NULL    │     0 │ VILLIERS SUR THOLON      │ Villiers-sur-Tholon      │ Villiers-sur-Tholon      │ NULL    │ 89003     │\n",
       "│ COMA    │ 89476   │  NULL │ NULL    │ NULL    │ NULL    │     3 │ VILLOTTE                 │ Villotte                 │ La Villotte              │ NULL    │ 89472     │\n",
       "│ COMD    │ 89484   │  NULL │ NULL    │ NULL    │ NULL    │     0 │ VOLGRE                   │ Volgré                   │ Volgré                   │ NULL    │ 89003     │\n",
       "│ COMD    │ 91222   │  NULL │ NULL    │ NULL    │ NULL    │     1 │ ESTOUCHES                │ Estouches                │ Estouches                │ NULL    │ 91390     │\n",
       "│ COMD    │ 91390   │  NULL │ NULL    │ NULL    │ NULL    │     0 │ MEREVILLE                │ Méréville                │ Méréville                │ NULL    │ 91390     │\n",
       "├─────────┴─────────┴───────┴─────────┴─────────┴─────────┴───────┴──────────────────────────┴──────────────────────────┴──────────────────────────┴─────────┴───────────┤\n",
       "│ 2564 rows (20 shown)                                                                                                                                        12 columns │\n",
       "└────────────────────────────────────────────────────────────────────────────────────────────────────────────────────────────────────────────────────────────────────────┘"
      ]
     },
     "execution_count": 7,
     "metadata": {},
     "output_type": "execute_result"
    }
   ],
   "source": [
    "duckdb.sql(\"\"\"select * from commune where dep is null;\"\"\")"
   ]
  },
  {
   "cell_type": "markdown",
   "metadata": {},
   "source": [
    "duckdb.sql(\"\"\"\n",
    "SELECT dep,\n",
    "       COUNT(1) AS nb_communes,\n",
    "       RANK() OVER (ORDER BY COUNT(1) DESC) AS rang\n",
    "  FROM commune\n",
    " WHERE dep IS NOT NULL\n",
    " GROUP BY dep\n",
    "HAVING nb_communes >= 500\n",
    " ORDER BY 2 DESC;\n",
    "\"\"\").to_df()"
   ]
  },
  {
   "cell_type": "code",
   "execution_count": null,
   "metadata": {},
   "outputs": [
    {
     "data": {
      "text/html": [
       "<div>\n",
       "<style scoped>\n",
       "    .dataframe tbody tr th:only-of-type {\n",
       "        vertical-align: middle;\n",
       "    }\n",
       "\n",
       "    .dataframe tbody tr th {\n",
       "        vertical-align: top;\n",
       "    }\n",
       "\n",
       "    .dataframe thead th {\n",
       "        text-align: right;\n",
       "    }\n",
       "</style>\n",
       "<table border=\"1\" class=\"dataframe\">\n",
       "  <thead>\n",
       "    <tr style=\"text-align: right;\">\n",
       "      <th></th>\n",
       "      <th>DEP</th>\n",
       "      <th>nb_communes</th>\n",
       "      <th>rang</th>\n",
       "    </tr>\n",
       "  </thead>\n",
       "  <tbody>\n",
       "    <tr>\n",
       "      <th>0</th>\n",
       "      <td>62</td>\n",
       "      <td>890</td>\n",
       "      <td>1</td>\n",
       "    </tr>\n",
       "    <tr>\n",
       "      <th>1</th>\n",
       "      <td>02</td>\n",
       "      <td>798</td>\n",
       "      <td>2</td>\n",
       "    </tr>\n",
       "    <tr>\n",
       "      <th>2</th>\n",
       "      <td>80</td>\n",
       "      <td>772</td>\n",
       "      <td>3</td>\n",
       "    </tr>\n",
       "    <tr>\n",
       "      <th>3</th>\n",
       "      <td>57</td>\n",
       "      <td>725</td>\n",
       "      <td>4</td>\n",
       "    </tr>\n",
       "    <tr>\n",
       "      <th>4</th>\n",
       "      <td>76</td>\n",
       "      <td>708</td>\n",
       "      <td>5</td>\n",
       "    </tr>\n",
       "    <tr>\n",
       "      <th>5</th>\n",
       "      <td>21</td>\n",
       "      <td>698</td>\n",
       "      <td>6</td>\n",
       "    </tr>\n",
       "    <tr>\n",
       "      <th>6</th>\n",
       "      <td>60</td>\n",
       "      <td>680</td>\n",
       "      <td>7</td>\n",
       "    </tr>\n",
       "    <tr>\n",
       "      <th>7</th>\n",
       "      <td>59</td>\n",
       "      <td>648</td>\n",
       "      <td>8</td>\n",
       "    </tr>\n",
       "    <tr>\n",
       "      <th>8</th>\n",
       "      <td>51</td>\n",
       "      <td>611</td>\n",
       "      <td>9</td>\n",
       "    </tr>\n",
       "    <tr>\n",
       "      <th>9</th>\n",
       "      <td>54</td>\n",
       "      <td>591</td>\n",
       "      <td>10</td>\n",
       "    </tr>\n",
       "    <tr>\n",
       "      <th>10</th>\n",
       "      <td>31</td>\n",
       "      <td>586</td>\n",
       "      <td>11</td>\n",
       "    </tr>\n",
       "    <tr>\n",
       "      <th>11</th>\n",
       "      <td>27</td>\n",
       "      <td>585</td>\n",
       "      <td>12</td>\n",
       "    </tr>\n",
       "    <tr>\n",
       "      <th>12</th>\n",
       "      <td>25</td>\n",
       "      <td>569</td>\n",
       "      <td>13</td>\n",
       "    </tr>\n",
       "    <tr>\n",
       "      <th>13</th>\n",
       "      <td>71</td>\n",
       "      <td>564</td>\n",
       "      <td>14</td>\n",
       "    </tr>\n",
       "    <tr>\n",
       "      <th>14</th>\n",
       "      <td>64</td>\n",
       "      <td>545</td>\n",
       "      <td>15</td>\n",
       "    </tr>\n",
       "    <tr>\n",
       "      <th>15</th>\n",
       "      <td>70</td>\n",
       "      <td>539</td>\n",
       "      <td>16</td>\n",
       "    </tr>\n",
       "    <tr>\n",
       "      <th>16</th>\n",
       "      <td>33</td>\n",
       "      <td>535</td>\n",
       "      <td>17</td>\n",
       "    </tr>\n",
       "    <tr>\n",
       "      <th>17</th>\n",
       "      <td>14</td>\n",
       "      <td>528</td>\n",
       "      <td>18</td>\n",
       "    </tr>\n",
       "    <tr>\n",
       "      <th>18</th>\n",
       "      <td>67</td>\n",
       "      <td>514</td>\n",
       "      <td>19</td>\n",
       "    </tr>\n",
       "    <tr>\n",
       "      <th>19</th>\n",
       "      <td>38</td>\n",
       "      <td>512</td>\n",
       "      <td>20</td>\n",
       "    </tr>\n",
       "    <tr>\n",
       "      <th>20</th>\n",
       "      <td>88</td>\n",
       "      <td>507</td>\n",
       "      <td>21</td>\n",
       "    </tr>\n",
       "    <tr>\n",
       "      <th>21</th>\n",
       "      <td>77</td>\n",
       "      <td>507</td>\n",
       "      <td>21</td>\n",
       "    </tr>\n",
       "    <tr>\n",
       "      <th>22</th>\n",
       "      <td>24</td>\n",
       "      <td>503</td>\n",
       "      <td>23</td>\n",
       "    </tr>\n",
       "  </tbody>\n",
       "</table>\n",
       "</div>"
      ],
      "text/plain": [
       "   DEP  nb_communes  rang\n",
       "0   62          890     1\n",
       "1   02          798     2\n",
       "2   80          772     3\n",
       "3   57          725     4\n",
       "4   76          708     5\n",
       "5   21          698     6\n",
       "6   60          680     7\n",
       "7   59          648     8\n",
       "8   51          611     9\n",
       "9   54          591    10\n",
       "10  31          586    11\n",
       "11  27          585    12\n",
       "12  25          569    13\n",
       "13  71          564    14\n",
       "14  64          545    15\n",
       "15  70          539    16\n",
       "16  33          535    17\n",
       "17  14          528    18\n",
       "18  67          514    19\n",
       "19  38          512    20\n",
       "20  88          507    21\n",
       "21  77          507    21\n",
       "22  24          503    23"
      ]
     },
     "execution_count": 9,
     "metadata": {},
     "output_type": "execute_result"
    }
   ],
   "source": [
    "duckdb.sql(\"\"\"\n",
    "SELECT dep,\n",
    "       COUNT(1) AS nb_communes,\n",
    "       RANK() OVER (ORDER BY COUNT(1) DESC) AS rang\n",
    "  FROM commune\n",
    " WHERE dep IS NOT NULL\n",
    " GROUP BY dep\n",
    "HAVING nb_communes >= 500\n",
    " ORDER BY rang DESC;\n",
    "\"\"\").to_df()"
   ]
  },
  {
   "cell_type": "markdown",
   "metadata": {},
   "source": [
    "    Quel est le numéro du département dans lequel se trouve le nom de commune le plus long\n"
   ]
  },
  {
   "cell_type": "code",
   "execution_count": 6,
   "metadata": {},
   "outputs": [
    {
     "data": {
      "text/plain": [
       "┌──────────────────┐\n",
       "│ max(length(ncc)) │\n",
       "│      int64       │\n",
       "├──────────────────┤\n",
       "│               45 │\n",
       "└──────────────────┘"
      ]
     },
     "execution_count": 6,
     "metadata": {},
     "output_type": "execute_result"
    }
   ],
   "source": [
    "duckdb.sql(\"\"\"SELECT max(LENGTH(ncc))\n",
    "                        FROM commune\"\"\")"
   ]
  },
  {
   "cell_type": "code",
   "execution_count": null,
   "metadata": {},
   "outputs": [],
   "source": []
  },
  {
   "cell_type": "markdown",
   "metadata": {},
   "source": [
    "# test"
   ]
  },
  {
   "cell_type": "code",
   "execution_count": null,
   "metadata": {},
   "outputs": [
    {
     "data": {
      "text/html": [
       "<div>\n",
       "<style scoped>\n",
       "    .dataframe tbody tr th:only-of-type {\n",
       "        vertical-align: middle;\n",
       "    }\n",
       "\n",
       "    .dataframe tbody tr th {\n",
       "        vertical-align: top;\n",
       "    }\n",
       "\n",
       "    .dataframe thead th {\n",
       "        text-align: right;\n",
       "    }\n",
       "</style>\n",
       "<table border=\"1\" class=\"dataframe\">\n",
       "  <thead>\n",
       "    <tr style=\"text-align: right;\">\n",
       "      <th></th>\n",
       "      <th>DEP</th>\n",
       "    </tr>\n",
       "  </thead>\n",
       "  <tbody>\n",
       "    <tr>\n",
       "      <th>0</th>\n",
       "      <td>51</td>\n",
       "    </tr>\n",
       "  </tbody>\n",
       "</table>\n",
       "</div>"
      ],
      "text/plain": [
       "  DEP\n",
       "0  51"
      ]
     },
     "execution_count": 3,
     "metadata": {},
     "output_type": "execute_result"
    }
   ],
   "source": [
    "duckdb.sql(\"\"\"\n",
    "SELECT dep\n",
    "  FROM commune\n",
    " WHERE LENGTH(ncc) = (SELECT max(LENGTH(ncc))\n",
    "                        FROM commune);\n",
    "\"\"\").to_df()"
   ]
  }
 ],
 "metadata": {
  "kernelspec": {
   "display_name": "base",
   "language": "python",
   "name": "python3"
  },
  "language_info": {
   "codemirror_mode": {
    "name": "ipython",
    "version": 3
   },
   "file_extension": ".py",
   "mimetype": "text/x-python",
   "name": "python",
   "nbconvert_exporter": "python",
   "pygments_lexer": "ipython3",
   "version": "3.12.6"
  }
 },
 "nbformat": 4,
 "nbformat_minor": 2
}
